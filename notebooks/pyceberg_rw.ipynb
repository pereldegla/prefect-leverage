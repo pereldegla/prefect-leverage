{
 "cells": [
  {
   "cell_type": "code",
   "execution_count": 1,
   "metadata": {},
   "outputs": [],
   "source": [
    "from pyiceberg.catalog import load_catalog\n",
    "from pyiceberg.exceptions import TableAlreadyExistsError\n",
    "from pyiceberg.schema import Schema\n",
    "from pyiceberg.types import StringType, DoubleType, NestedField\n",
    "import pandas as pd\n",
    "from IPython.display import display\n",
    "import pyarrow as pa\n",
    "from minio import Minio"
   ]
  },
  {
   "cell_type": "code",
   "execution_count": 2,
   "metadata": {},
   "outputs": [],
   "source": [
    "from dotenv import load_dotenv\n",
    "import os\n",
    "\n",
    "# Load environment variables from .env file\n",
    "load_dotenv()\n",
    "\n",
    "# Access the variables\n",
    "MINIO_URL = os.getenv(\"MINIO_URL\")\n",
    "MINIO_ENDPOINT = os.getenv(\"MINIO_ENDPOINT\")\n",
    "MINIO_ACCESS_KEY = os.getenv(\"MINIO_ACCESS_KEY\")\n",
    "MINIO_SECRET_KEY = os.getenv(\"MINIO_SECRET_KEY\")\n",
    "RAW_CATALOG_URL = os.getenv(\"RAW_CATALOG_URL\")\n",
    "RAW_CATALOG_PORT = os.getenv(\"RAW_CATALOG_PORT\")\n",
    "RAW_CATALOG_NAME = os.getenv(\"RAW_CATALOG_NAME\")\n",
    "TABLE_CATALOG_URL = os.getenv(\"TABLE_CATALOG_URL\")\n",
    "TABLE_CATALOG_PORT = os.getenv(\"TABLE_CATALOG_PORT\")\n",
    "TABLE_CATALOG_NAME = os.getenv(\"TABLE_CATALOG_NAME\")"
   ]
  },
  {
   "cell_type": "code",
   "execution_count": 12,
   "metadata": {},
   "outputs": [],
   "source": [
    "# Charger le catalogue Iceberg RAW\n",
    "catalog_raw = load_catalog('RAW', **{\n",
    "    'uri': f\"{RAW_CATALOG_URL}:{RAW_CATALOG_PORT}\",\n",
    "    's3.endpoint': MINIO_URL,\n",
    "    's3.access-key-id': MINIO_ACCESS_KEY,\n",
    "    's3.secret-access-key': MINIO_SECRET_KEY,\n",
    "})\n",
    "catalog_table = load_catalog('TABLE', **{\n",
    "    'uri': f\"{TABLE_CATALOG_URL}:{TABLE_CATALOG_PORT}\",\n",
    "    's3.endpoint': MINIO_URL,\n",
    "    's3.access-key-id': MINIO_ACCESS_KEY,\n",
    "    's3.secret-access-key': MINIO_SECRET_KEY,\n",
    "})"
   ]
  },
  {
   "cell_type": "code",
   "execution_count": 4,
   "metadata": {},
   "outputs": [],
   "source": [
    "minio_client = Minio(\n",
    "    MINIO_ENDPOINT,\n",
    "    access_key=MINIO_ACCESS_KEY,\n",
    "    secret_key=MINIO_SECRET_KEY,\n",
    "    secure=False\n",
    ")"
   ]
  },
  {
   "cell_type": "code",
   "execution_count": null,
   "metadata": {},
   "outputs": [],
   "source": [
    "for obj in minio_client.list_objects(\"landing\"):\n",
    "    print(obj.object_name)"
   ]
  },
  {
   "cell_type": "code",
   "execution_count": 19,
   "metadata": {},
   "outputs": [],
   "source": [
    "data = minio_client.get_object(\n",
    "        bucket_name=\"landing\",\n",
    "        object_name=\"Data/employees.csv\",\n",
    "    )"
   ]
  },
  {
   "cell_type": "code",
   "execution_count": 20,
   "metadata": {},
   "outputs": [],
   "source": [
    "data = pd.read_csv(data)"
   ]
  },
  {
   "cell_type": "code",
   "execution_count": 29,
   "metadata": {},
   "outputs": [
    {
     "data": {
      "text/html": [
       "<div>\n",
       "<style scoped>\n",
       "    .dataframe tbody tr th:only-of-type {\n",
       "        vertical-align: middle;\n",
       "    }\n",
       "\n",
       "    .dataframe tbody tr th {\n",
       "        vertical-align: top;\n",
       "    }\n",
       "\n",
       "    .dataframe thead th {\n",
       "        text-align: right;\n",
       "    }\n",
       "</style>\n",
       "<table border=\"1\" class=\"dataframe\">\n",
       "  <thead>\n",
       "    <tr style=\"text-align: right;\">\n",
       "      <th></th>\n",
       "      <th>EmployeeID</th>\n",
       "      <th>FirstName</th>\n",
       "      <th>LastName</th>\n",
       "      <th>Department</th>\n",
       "      <th>Position</th>\n",
       "      <th>Email</th>\n",
       "    </tr>\n",
       "  </thead>\n",
       "  <tbody>\n",
       "    <tr>\n",
       "      <th>0</th>\n",
       "      <td>1</td>\n",
       "      <td>Edward</td>\n",
       "      <td>Thompson</td>\n",
       "      <td>Legal</td>\n",
       "      <td>Paralegal</td>\n",
       "      <td>emcbride@example.org</td>\n",
       "    </tr>\n",
       "    <tr>\n",
       "      <th>1</th>\n",
       "      <td>2</td>\n",
       "      <td>Courtney</td>\n",
       "      <td>Lopez</td>\n",
       "      <td>Product</td>\n",
       "      <td>Product Analyst</td>\n",
       "      <td>jtran@example.net</td>\n",
       "    </tr>\n",
       "    <tr>\n",
       "      <th>2</th>\n",
       "      <td>3</td>\n",
       "      <td>Douglas</td>\n",
       "      <td>Ayala</td>\n",
       "      <td>Human Resources</td>\n",
       "      <td>Recruiter</td>\n",
       "      <td>skline@example.net</td>\n",
       "    </tr>\n",
       "    <tr>\n",
       "      <th>3</th>\n",
       "      <td>4</td>\n",
       "      <td>Shannon</td>\n",
       "      <td>Roberts</td>\n",
       "      <td>Legal</td>\n",
       "      <td>Paralegal</td>\n",
       "      <td>fordangela@example.org</td>\n",
       "    </tr>\n",
       "    <tr>\n",
       "      <th>4</th>\n",
       "      <td>5</td>\n",
       "      <td>Andrew</td>\n",
       "      <td>Sanchez</td>\n",
       "      <td>Operations</td>\n",
       "      <td>Operations Analyst</td>\n",
       "      <td>allen79@example.com</td>\n",
       "    </tr>\n",
       "  </tbody>\n",
       "</table>\n",
       "</div>"
      ],
      "text/plain": [
       "   EmployeeID FirstName  LastName       Department            Position  \\\n",
       "0           1    Edward  Thompson            Legal           Paralegal   \n",
       "1           2  Courtney     Lopez          Product     Product Analyst   \n",
       "2           3   Douglas     Ayala  Human Resources           Recruiter   \n",
       "3           4   Shannon   Roberts            Legal           Paralegal   \n",
       "4           5    Andrew   Sanchez       Operations  Operations Analyst   \n",
       "\n",
       "                    Email  \n",
       "0    emcbride@example.org  \n",
       "1       jtran@example.net  \n",
       "2      skline@example.net  \n",
       "3  fordangela@example.org  \n",
       "4     allen79@example.com  "
      ]
     },
     "execution_count": 29,
     "metadata": {},
     "output_type": "execute_result"
    }
   ],
   "source": [
    "data.head()"
   ]
  },
  {
   "cell_type": "code",
   "execution_count": 3,
   "metadata": {},
   "outputs": [
    {
     "name": "stdout",
     "output_type": "stream",
     "text": [
      "Table my_namespace.cities_1 already exists in the catalog\n"
     ]
    }
   ],
   "source": [
    "# Create the schema for the table\n",
    "schema = Schema(\n",
    "    NestedField(1, \"city\", StringType(), required=False),\n",
    "    NestedField(2, \"lat\", DoubleType(), required=False),\n",
    "    NestedField(3, \"long\", DoubleType(), required=False),\n",
    ")\n",
    "\n",
    "table_name = \"my_namespace.cities_1\"  # Specify your table name\n",
    "\n",
    "try: \n",
    "    # Create the table\n",
    "    my_table = catalog_raw.create_table(\n",
    "        identifier=table_name,\n",
    "        schema=schema,\n",
    "    )\n",
    "except TableAlreadyExistsError:\n",
    "    print(f\"Table {table_name} already exists in the catalog\")"
   ]
  },
  {
   "cell_type": "code",
   "execution_count": null,
   "metadata": {},
   "outputs": [],
   "source": [
    "df = pa.Table.from_pylist(\n",
    "    [\n",
    "        {\"city\": \"Amsterdam\", \"lat\": 52.371807, \"long\": 4.896029},\n",
    "        {\"city\": \"San Francisco\", \"lat\": 37.773972, \"long\": -122.431297},\n",
    "        {\"city\": \"Drachten\", \"lat\": 53.11254, \"long\": 6.0989},\n",
    "        {\"city\": \"Paris\", \"lat\": 48.864716, \"long\": 2.349014},\n",
    "    ],\n",
    ")"
   ]
  },
  {
   "cell_type": "code",
   "execution_count": null,
   "metadata": {},
   "outputs": [],
   "source": [
    "table = catalog_raw.load_table(\"my_namespace.cities_1\")\n",
    "table.overwrite(df)"
   ]
  },
  {
   "cell_type": "code",
   "execution_count": 4,
   "metadata": {},
   "outputs": [
    {
     "data": {
      "text/html": [
       "<div>\n",
       "<style scoped>\n",
       "    .dataframe tbody tr th:only-of-type {\n",
       "        vertical-align: middle;\n",
       "    }\n",
       "\n",
       "    .dataframe tbody tr th {\n",
       "        vertical-align: top;\n",
       "    }\n",
       "\n",
       "    .dataframe thead th {\n",
       "        text-align: right;\n",
       "    }\n",
       "</style>\n",
       "<table border=\"1\" class=\"dataframe\">\n",
       "  <thead>\n",
       "    <tr style=\"text-align: right;\">\n",
       "      <th></th>\n",
       "      <th>city</th>\n",
       "      <th>lat</th>\n",
       "      <th>long</th>\n",
       "    </tr>\n",
       "  </thead>\n",
       "  <tbody>\n",
       "    <tr>\n",
       "      <th>0</th>\n",
       "      <td>Amsterdam</td>\n",
       "      <td>52.371807</td>\n",
       "      <td>4.896029</td>\n",
       "    </tr>\n",
       "    <tr>\n",
       "      <th>1</th>\n",
       "      <td>San Francisco</td>\n",
       "      <td>37.773972</td>\n",
       "      <td>-122.431297</td>\n",
       "    </tr>\n",
       "    <tr>\n",
       "      <th>2</th>\n",
       "      <td>Drachten</td>\n",
       "      <td>53.112540</td>\n",
       "      <td>6.098900</td>\n",
       "    </tr>\n",
       "    <tr>\n",
       "      <th>3</th>\n",
       "      <td>Paris</td>\n",
       "      <td>48.864716</td>\n",
       "      <td>2.349014</td>\n",
       "    </tr>\n",
       "  </tbody>\n",
       "</table>\n",
       "</div>"
      ],
      "text/plain": [
       "            city        lat        long\n",
       "0      Amsterdam  52.371807    4.896029\n",
       "1  San Francisco  37.773972 -122.431297\n",
       "2       Drachten  53.112540    6.098900\n",
       "3          Paris  48.864716    2.349014"
      ]
     },
     "metadata": {},
     "output_type": "display_data"
    }
   ],
   "source": [
    "scan = catalog_raw.load_table(\"my_namespace.cities_1\").scan()\n",
    "pandas_df = scan.to_pandas()\n",
    "df = pd.DataFrame(pandas_df)\n",
    "display(df)"
   ]
  }
 ],
 "metadata": {
  "kernelspec": {
   "display_name": "Python 3",
   "language": "python",
   "name": "python3"
  },
  "language_info": {
   "codemirror_mode": {
    "name": "ipython",
    "version": 3
   },
   "file_extension": ".py",
   "mimetype": "text/x-python",
   "name": "python",
   "nbconvert_exporter": "python",
   "pygments_lexer": "ipython3",
   "version": "3.11.4"
  }
 },
 "nbformat": 4,
 "nbformat_minor": 2
}
