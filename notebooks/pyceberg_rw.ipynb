{
 "cells": [
  {
   "cell_type": "code",
   "execution_count": 1,
   "metadata": {},
   "outputs": [],
   "source": [
    "from pyiceberg.catalog import load_catalog\n",
    "from pyiceberg.exceptions import TableAlreadyExistsError\n",
    "from pyiceberg.schema import Schema\n",
    "from pyiceberg.types import StringType, DoubleType, NestedField\n",
    "import pandas as pd\n",
    "from IPython.display import display\n",
    "import pyarrow as pa\n",
    "from minio import Minio"
   ]
  },
  {
   "cell_type": "code",
   "execution_count": 3,
   "metadata": {},
   "outputs": [],
   "source": [
    "MINIO_URL = \"http://172.18.0.9:9000\"\n",
    "MINIO_ENDPOINT = \"172.18.0.9:9000\"\n",
    "MINIO_ACCESS_KEY = \"minioadmin\"\n",
    "MINIO_SECRET_KEY = \"minioadmin\"\n",
    "\n",
    "########################### REST Catalog  ###########################\n",
    "RAW_CATALOG_URL = \"http://172.18.0.10\"\n",
    "RAW_CATALOG_PORT = \"8181\"\n",
    "RAW_CATALOG_NAME = \"RAW\"\n",
    "\n",
    "TABLE_CATALOG_URL = \"http://172.18.0.5\"\n",
    "TABLE_CATALOG_PORT = \"8182\"\n",
    "TABLE_CATALOG_NAME = \"TABLE\"\n",
    "\n",
    "# Charger le catalogue Iceberg RAW\n",
    "catalogRAW = load_catalog('RAW', **{\n",
    "    'uri': f\"{RAW_CATALOG_URL}:{RAW_CATALOG_PORT}\",\n",
    "    's3.endpoint': MINIO_URL,\n",
    "    's3.access-key-id': MINIO_ACCESS_KEY,\n",
    "    's3.secret-access-key': MINIO_SECRET_KEY,\n",
    "})"
   ]
  },
  {
   "cell_type": "code",
   "execution_count": 4,
   "metadata": {},
   "outputs": [],
   "source": [
    "minio_client = Minio(\n",
    "    MINIO_ENDPOINT,\n",
    "    access_key=MINIO_ACCESS_KEY,\n",
    "    secret_key=MINIO_SECRET_KEY,\n",
    "    secure=False\n",
    ")"
   ]
  },
  {
   "cell_type": "code",
   "execution_count": 6,
   "metadata": {},
   "outputs": [
    {
     "name": "stdout",
     "output_type": "stream",
     "text": [
      "Design sans titre.png\n",
      "employees.csv\n",
      "new/\n",
      "test/\n"
     ]
    }
   ],
   "source": [
    "for obj in minio_client.list_objects(\"landing\"):\n",
    "    print(obj.object_name)"
   ]
  },
  {
   "cell_type": "code",
   "execution_count": 8,
   "metadata": {},
   "outputs": [],
   "source": [
    "data = minio_client.get_object(\n",
    "        bucket_name=\"landing\",\n",
    "        object_name=\"employees.csv\",\n",
    "    )"
   ]
  },
  {
   "cell_type": "code",
   "execution_count": 9,
   "metadata": {},
   "outputs": [],
   "source": [
    "data = pd.read_csv(data)"
   ]
  },
  {
   "cell_type": "code",
   "execution_count": 10,
   "metadata": {},
   "outputs": [
    {
     "data": {
      "text/html": [
       "<div>\n",
       "<style scoped>\n",
       "    .dataframe tbody tr th:only-of-type {\n",
       "        vertical-align: middle;\n",
       "    }\n",
       "\n",
       "    .dataframe tbody tr th {\n",
       "        vertical-align: top;\n",
       "    }\n",
       "\n",
       "    .dataframe thead th {\n",
       "        text-align: right;\n",
       "    }\n",
       "</style>\n",
       "<table border=\"1\" class=\"dataframe\">\n",
       "  <thead>\n",
       "    <tr style=\"text-align: right;\">\n",
       "      <th></th>\n",
       "      <th>EmployeeID</th>\n",
       "      <th>FirstName</th>\n",
       "      <th>LastName</th>\n",
       "      <th>Department</th>\n",
       "      <th>Position</th>\n",
       "      <th>Email</th>\n",
       "    </tr>\n",
       "  </thead>\n",
       "  <tbody>\n",
       "    <tr>\n",
       "      <th>0</th>\n",
       "      <td>101</td>\n",
       "      <td>John</td>\n",
       "      <td>Doe</td>\n",
       "      <td>Engineering</td>\n",
       "      <td>Software Engineer</td>\n",
       "      <td>john.doe@example.com</td>\n",
       "    </tr>\n",
       "    <tr>\n",
       "      <th>1</th>\n",
       "      <td>102</td>\n",
       "      <td>Jane</td>\n",
       "      <td>Smith</td>\n",
       "      <td>Marketing</td>\n",
       "      <td>Marketing Manager</td>\n",
       "      <td>jane.smith@example.com</td>\n",
       "    </tr>\n",
       "    <tr>\n",
       "      <th>2</th>\n",
       "      <td>103</td>\n",
       "      <td>Emily</td>\n",
       "      <td>Davis</td>\n",
       "      <td>Sales</td>\n",
       "      <td>Sales Representative</td>\n",
       "      <td>emily.davis@example.com</td>\n",
       "    </tr>\n",
       "    <tr>\n",
       "      <th>3</th>\n",
       "      <td>104</td>\n",
       "      <td>Michael</td>\n",
       "      <td>Brown</td>\n",
       "      <td>Human Resources</td>\n",
       "      <td>HR Specialist</td>\n",
       "      <td>michael.brown@example.com</td>\n",
       "    </tr>\n",
       "    <tr>\n",
       "      <th>4</th>\n",
       "      <td>105</td>\n",
       "      <td>Sarah</td>\n",
       "      <td>Wilson</td>\n",
       "      <td>Finance</td>\n",
       "      <td>Accountant</td>\n",
       "      <td>sarah.wilson@example.com</td>\n",
       "    </tr>\n",
       "  </tbody>\n",
       "</table>\n",
       "</div>"
      ],
      "text/plain": [
       "   EmployeeID FirstName LastName       Department              Position  \\\n",
       "0         101      John      Doe      Engineering     Software Engineer   \n",
       "1         102      Jane    Smith        Marketing     Marketing Manager   \n",
       "2         103     Emily    Davis            Sales  Sales Representative   \n",
       "3         104   Michael    Brown  Human Resources         HR Specialist   \n",
       "4         105     Sarah   Wilson          Finance            Accountant   \n",
       "\n",
       "                       Email  \n",
       "0       john.doe@example.com  \n",
       "1     jane.smith@example.com  \n",
       "2    emily.davis@example.com  \n",
       "3  michael.brown@example.com  \n",
       "4   sarah.wilson@example.com  "
      ]
     },
     "execution_count": 10,
     "metadata": {},
     "output_type": "execute_result"
    }
   ],
   "source": [
    "data.head()"
   ]
  },
  {
   "cell_type": "code",
   "execution_count": 3,
   "metadata": {},
   "outputs": [
    {
     "name": "stdout",
     "output_type": "stream",
     "text": [
      "Table my_namespace.cities_1 already exists in the catalog\n"
     ]
    }
   ],
   "source": [
    "schema = Schema(\n",
    "    NestedField(1, \"city\", StringType(), required=False),\n",
    "    NestedField(2, \"lat\", DoubleType(), required=False),\n",
    "    NestedField(3, \"long\", DoubleType(), required=False),\n",
    ")\n",
    "\n",
    "table_name = \"my_namespace.cities_1\"  # Specify your table name\n",
    "\n",
    "try: \n",
    "    # Create the table\n",
    "    my_table = catalogRAW.create_table(\n",
    "        identifier=table_name,\n",
    "        schema=schema,\n",
    "    )\n",
    "except TableAlreadyExistsError:\n",
    "    print(f\"Table {table_name} already exists in the catalog\")"
   ]
  },
  {
   "cell_type": "code",
   "execution_count": null,
   "metadata": {},
   "outputs": [],
   "source": [
    "df = pa.Table.from_pylist(\n",
    "    [\n",
    "        {\"city\": \"Amsterdam\", \"lat\": 52.371807, \"long\": 4.896029},\n",
    "        {\"city\": \"San Francisco\", \"lat\": 37.773972, \"long\": -122.431297},\n",
    "        {\"city\": \"Drachten\", \"lat\": 53.11254, \"long\": 6.0989},\n",
    "        {\"city\": \"Paris\", \"lat\": 48.864716, \"long\": 2.349014},\n",
    "    ],\n",
    ")"
   ]
  },
  {
   "cell_type": "code",
   "execution_count": null,
   "metadata": {},
   "outputs": [],
   "source": [
    "table = catalogRAW.load_table(\"my_namespace.cities_1\")\n",
    "table.overwrite(df)"
   ]
  },
  {
   "cell_type": "code",
   "execution_count": 4,
   "metadata": {},
   "outputs": [
    {
     "data": {
      "text/html": [
       "<div>\n",
       "<style scoped>\n",
       "    .dataframe tbody tr th:only-of-type {\n",
       "        vertical-align: middle;\n",
       "    }\n",
       "\n",
       "    .dataframe tbody tr th {\n",
       "        vertical-align: top;\n",
       "    }\n",
       "\n",
       "    .dataframe thead th {\n",
       "        text-align: right;\n",
       "    }\n",
       "</style>\n",
       "<table border=\"1\" class=\"dataframe\">\n",
       "  <thead>\n",
       "    <tr style=\"text-align: right;\">\n",
       "      <th></th>\n",
       "      <th>city</th>\n",
       "      <th>lat</th>\n",
       "      <th>long</th>\n",
       "    </tr>\n",
       "  </thead>\n",
       "  <tbody>\n",
       "    <tr>\n",
       "      <th>0</th>\n",
       "      <td>Amsterdam</td>\n",
       "      <td>52.371807</td>\n",
       "      <td>4.896029</td>\n",
       "    </tr>\n",
       "    <tr>\n",
       "      <th>1</th>\n",
       "      <td>San Francisco</td>\n",
       "      <td>37.773972</td>\n",
       "      <td>-122.431297</td>\n",
       "    </tr>\n",
       "    <tr>\n",
       "      <th>2</th>\n",
       "      <td>Drachten</td>\n",
       "      <td>53.112540</td>\n",
       "      <td>6.098900</td>\n",
       "    </tr>\n",
       "    <tr>\n",
       "      <th>3</th>\n",
       "      <td>Paris</td>\n",
       "      <td>48.864716</td>\n",
       "      <td>2.349014</td>\n",
       "    </tr>\n",
       "  </tbody>\n",
       "</table>\n",
       "</div>"
      ],
      "text/plain": [
       "            city        lat        long\n",
       "0      Amsterdam  52.371807    4.896029\n",
       "1  San Francisco  37.773972 -122.431297\n",
       "2       Drachten  53.112540    6.098900\n",
       "3          Paris  48.864716    2.349014"
      ]
     },
     "metadata": {},
     "output_type": "display_data"
    }
   ],
   "source": [
    "scan = catalogRAW.load_table(\"my_namespace.cities_1\").scan()\n",
    "pandas_df = scan.to_pandas()\n",
    "df = pd.DataFrame(pandas_df)\n",
    "display(df)"
   ]
  }
 ],
 "metadata": {
  "kernelspec": {
   "display_name": "Python 3",
   "language": "python",
   "name": "python3"
  },
  "language_info": {
   "codemirror_mode": {
    "name": "ipython",
    "version": 3
   },
   "file_extension": ".py",
   "mimetype": "text/x-python",
   "name": "python",
   "nbconvert_exporter": "python",
   "pygments_lexer": "ipython3",
   "version": "3.11.4"
  }
 },
 "nbformat": 4,
 "nbformat_minor": 2
}
